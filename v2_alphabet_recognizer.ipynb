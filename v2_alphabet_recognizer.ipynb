{
  "nbformat": 4,
  "nbformat_minor": 0,
  "metadata": {
    "colab": {
      "name": "Copy of CW-v2-alphabet-recognizer.ipynb",
      "version": "0.3.2",
      "provenance": [],
      "collapsed_sections": []
    },
    "kernelspec": {
      "name": "python3",
      "display_name": "Python 3"
    },
    "accelerator": "GPU"
  },
  "cells": [
    {
      "metadata": {
        "id": "aNyZv-Ec52ot",
        "colab_type": "text"
      },
      "cell_type": "markdown",
      "source": [
        "# **Import Libraries and modules**"
      ]
    },
    {
      "metadata": {
        "id": "3m3w1Cw49Zkt",
        "colab_type": "code",
        "outputId": "9236e0d3-e264-4630-f079-7c62dcaf56cd",
        "colab": {
          "base_uri": "https://localhost:8080/",
          "height": 34
        }
      },
      "cell_type": "code",
      "source": [
        "# https://keras.io/\n",
        "!pip install -q keras\n",
        "import keras"
      ],
      "execution_count": 0,
      "outputs": [
        {
          "output_type": "stream",
          "text": [
            "Using TensorFlow backend.\n"
          ],
          "name": "stderr"
        }
      ]
    },
    {
      "metadata": {
        "id": "Eso6UHE080D4",
        "colab_type": "code",
        "colab": {}
      },
      "cell_type": "code",
      "source": [
        "import numpy as np\n",
        "import pandas as pd\n",
        "from keras.models import Sequential\n",
        "from keras.layers import Dense, Dropout, Activation, Flatten, Add\n",
        "from keras.layers import Convolution2D, MaxPooling2D,AveragePooling2D\n",
        "from keras.utils import np_utils\n",
        "from keras.preprocessing.image import ImageDataGenerator\n",
        "from keras.layers.normalization import BatchNormalization\n",
        "\n",
        "from keras.layers import Conv2D,MaxPooling2D\n",
        "\n",
        "from keras.datasets import mnist"
      ],
      "execution_count": 0,
      "outputs": []
    },
    {
      "metadata": {
        "id": "zByEi95J86RD",
        "colab_type": "text"
      },
      "cell_type": "markdown",
      "source": [
        "### Load pre-shuffled MNIST data into train and test sets"
      ]
    },
    {
      "metadata": {
        "id": "18ybArgjaXzo",
        "colab_type": "code",
        "outputId": "3a075d41-e902-4ecf-bf14-54e62f5196fe",
        "colab": {
          "base_uri": "https://localhost:8080/",
          "height": 122
        }
      },
      "cell_type": "code",
      "source": [
        "# Load the Drive helper and mount\n",
        "from google.colab import drive\n",
        "\n",
        "# This will prompt for authorization.\n",
        "drive.mount('/content/drive')"
      ],
      "execution_count": 0,
      "outputs": [
        {
          "output_type": "stream",
          "text": [
            "Go to this URL in a browser: https://accounts.google.com/o/oauth2/auth?client_id=947318989803-6bn6qk8qdgf4n4g3pfee6491hc0brc4i.apps.googleusercontent.com&redirect_uri=urn%3Aietf%3Awg%3Aoauth%3A2.0%3Aoob&scope=email%20https%3A%2F%2Fwww.googleapis.com%2Fauth%2Fdocs.test%20https%3A%2F%2Fwww.googleapis.com%2Fauth%2Fdrive%20https%3A%2F%2Fwww.googleapis.com%2Fauth%2Fdrive.photos.readonly%20https%3A%2F%2Fwww.googleapis.com%2Fauth%2Fpeopleapi.readonly&response_type=code\n",
            "\n",
            "Enter your authorization code:\n",
            "··········\n",
            "Mounted at /content/drive\n"
          ],
          "name": "stdout"
        }
      ]
    },
    {
      "metadata": {
        "id": "7eRM0QWN83PV",
        "colab_type": "code",
        "colab": {}
      },
      "cell_type": "code",
      "source": [
        "path_train = \"/content/drive/My Drive/Datasets/emnist-balanced-train.csv\"\n",
        "path_test = \"/content/drive/My Drive/Datasets/emnist-balanced-test.csv\""
      ],
      "execution_count": 0,
      "outputs": []
    },
    {
      "metadata": {
        "id": "tlwrzddL-v55",
        "colab_type": "code",
        "colab": {}
      },
      "cell_type": "code",
      "source": [
        "train = pd.read_csv(path_train,header=None)\n",
        "test  = pd.read_csv(path_test,header=None)"
      ],
      "execution_count": 0,
      "outputs": []
    },
    {
      "metadata": {
        "id": "dmd9je7wIWdG",
        "colab_type": "code",
        "colab": {}
      },
      "cell_type": "code",
      "source": [
        "train_data = train.iloc[:, 1:]\n",
        "train_labels = train.iloc[:, 0]\n",
        "test_data = test.iloc[:, 1:]\n",
        "test_labels = test.iloc[:, 0]"
      ],
      "execution_count": 0,
      "outputs": []
    },
    {
      "metadata": {
        "id": "vXip_fGSIWZp",
        "colab_type": "code",
        "outputId": "e0acee4f-d9a7-4ffb-a143-929ea85c71f0",
        "colab": {
          "base_uri": "https://localhost:8080/",
          "height": 233
        }
      },
      "cell_type": "code",
      "source": [
        "train_labels = pd.get_dummies(train_labels)\n",
        "test_labels = pd.get_dummies(test_labels)\n",
        "train_labels.head()"
      ],
      "execution_count": 0,
      "outputs": [
        {
          "output_type": "execute_result",
          "data": {
            "text/html": [
              "<div>\n",
              "<style scoped>\n",
              "    .dataframe tbody tr th:only-of-type {\n",
              "        vertical-align: middle;\n",
              "    }\n",
              "\n",
              "    .dataframe tbody tr th {\n",
              "        vertical-align: top;\n",
              "    }\n",
              "\n",
              "    .dataframe thead th {\n",
              "        text-align: right;\n",
              "    }\n",
              "</style>\n",
              "<table border=\"1\" class=\"dataframe\">\n",
              "  <thead>\n",
              "    <tr style=\"text-align: right;\">\n",
              "      <th></th>\n",
              "      <th>0</th>\n",
              "      <th>1</th>\n",
              "      <th>2</th>\n",
              "      <th>3</th>\n",
              "      <th>4</th>\n",
              "      <th>5</th>\n",
              "      <th>6</th>\n",
              "      <th>7</th>\n",
              "      <th>8</th>\n",
              "      <th>9</th>\n",
              "      <th>...</th>\n",
              "      <th>37</th>\n",
              "      <th>38</th>\n",
              "      <th>39</th>\n",
              "      <th>40</th>\n",
              "      <th>41</th>\n",
              "      <th>42</th>\n",
              "      <th>43</th>\n",
              "      <th>44</th>\n",
              "      <th>45</th>\n",
              "      <th>46</th>\n",
              "    </tr>\n",
              "  </thead>\n",
              "  <tbody>\n",
              "    <tr>\n",
              "      <th>0</th>\n",
              "      <td>0</td>\n",
              "      <td>0</td>\n",
              "      <td>0</td>\n",
              "      <td>0</td>\n",
              "      <td>0</td>\n",
              "      <td>0</td>\n",
              "      <td>0</td>\n",
              "      <td>0</td>\n",
              "      <td>0</td>\n",
              "      <td>0</td>\n",
              "      <td>...</td>\n",
              "      <td>0</td>\n",
              "      <td>0</td>\n",
              "      <td>0</td>\n",
              "      <td>0</td>\n",
              "      <td>0</td>\n",
              "      <td>0</td>\n",
              "      <td>0</td>\n",
              "      <td>0</td>\n",
              "      <td>1</td>\n",
              "      <td>0</td>\n",
              "    </tr>\n",
              "    <tr>\n",
              "      <th>1</th>\n",
              "      <td>0</td>\n",
              "      <td>0</td>\n",
              "      <td>0</td>\n",
              "      <td>0</td>\n",
              "      <td>0</td>\n",
              "      <td>0</td>\n",
              "      <td>0</td>\n",
              "      <td>0</td>\n",
              "      <td>0</td>\n",
              "      <td>0</td>\n",
              "      <td>...</td>\n",
              "      <td>0</td>\n",
              "      <td>0</td>\n",
              "      <td>0</td>\n",
              "      <td>0</td>\n",
              "      <td>0</td>\n",
              "      <td>0</td>\n",
              "      <td>0</td>\n",
              "      <td>0</td>\n",
              "      <td>0</td>\n",
              "      <td>0</td>\n",
              "    </tr>\n",
              "    <tr>\n",
              "      <th>2</th>\n",
              "      <td>0</td>\n",
              "      <td>0</td>\n",
              "      <td>0</td>\n",
              "      <td>0</td>\n",
              "      <td>0</td>\n",
              "      <td>0</td>\n",
              "      <td>0</td>\n",
              "      <td>0</td>\n",
              "      <td>0</td>\n",
              "      <td>0</td>\n",
              "      <td>...</td>\n",
              "      <td>0</td>\n",
              "      <td>0</td>\n",
              "      <td>0</td>\n",
              "      <td>0</td>\n",
              "      <td>0</td>\n",
              "      <td>0</td>\n",
              "      <td>1</td>\n",
              "      <td>0</td>\n",
              "      <td>0</td>\n",
              "      <td>0</td>\n",
              "    </tr>\n",
              "    <tr>\n",
              "      <th>3</th>\n",
              "      <td>0</td>\n",
              "      <td>0</td>\n",
              "      <td>0</td>\n",
              "      <td>0</td>\n",
              "      <td>0</td>\n",
              "      <td>0</td>\n",
              "      <td>0</td>\n",
              "      <td>0</td>\n",
              "      <td>0</td>\n",
              "      <td>0</td>\n",
              "      <td>...</td>\n",
              "      <td>0</td>\n",
              "      <td>0</td>\n",
              "      <td>0</td>\n",
              "      <td>0</td>\n",
              "      <td>0</td>\n",
              "      <td>0</td>\n",
              "      <td>0</td>\n",
              "      <td>0</td>\n",
              "      <td>0</td>\n",
              "      <td>0</td>\n",
              "    </tr>\n",
              "    <tr>\n",
              "      <th>4</th>\n",
              "      <td>0</td>\n",
              "      <td>0</td>\n",
              "      <td>0</td>\n",
              "      <td>0</td>\n",
              "      <td>1</td>\n",
              "      <td>0</td>\n",
              "      <td>0</td>\n",
              "      <td>0</td>\n",
              "      <td>0</td>\n",
              "      <td>0</td>\n",
              "      <td>...</td>\n",
              "      <td>0</td>\n",
              "      <td>0</td>\n",
              "      <td>0</td>\n",
              "      <td>0</td>\n",
              "      <td>0</td>\n",
              "      <td>0</td>\n",
              "      <td>0</td>\n",
              "      <td>0</td>\n",
              "      <td>0</td>\n",
              "      <td>0</td>\n",
              "    </tr>\n",
              "  </tbody>\n",
              "</table>\n",
              "<p>5 rows × 47 columns</p>\n",
              "</div>"
            ],
            "text/plain": [
              "   0   1   2   3   4   5   6   7   8   9  ...  37  38  39  40  41  42  43  44  \\\n",
              "0   0   0   0   0   0   0   0   0   0   0 ...   0   0   0   0   0   0   0   0   \n",
              "1   0   0   0   0   0   0   0   0   0   0 ...   0   0   0   0   0   0   0   0   \n",
              "2   0   0   0   0   0   0   0   0   0   0 ...   0   0   0   0   0   0   1   0   \n",
              "3   0   0   0   0   0   0   0   0   0   0 ...   0   0   0   0   0   0   0   0   \n",
              "4   0   0   0   0   1   0   0   0   0   0 ...   0   0   0   0   0   0   0   0   \n",
              "\n",
              "   45  46  \n",
              "0   1   0  \n",
              "1   0   0  \n",
              "2   0   0  \n",
              "3   0   0  \n",
              "4   0   0  \n",
              "\n",
              "[5 rows x 47 columns]"
            ]
          },
          "metadata": {
            "tags": []
          },
          "execution_count": 7
        }
      ]
    },
    {
      "metadata": {
        "id": "AoZLlKcoIWWY",
        "colab_type": "code",
        "colab": {}
      },
      "cell_type": "code",
      "source": [
        "train_data = train_data.values\n",
        "train_labels = train_labels.values\n",
        "test_data = test_data.values\n",
        "test_labels = test_labels.values\n",
        "del train, test"
      ],
      "execution_count": 0,
      "outputs": []
    },
    {
      "metadata": {
        "id": "eB3oAXm3IWUt",
        "colab_type": "code",
        "outputId": "b14e4270-970e-444e-df52-33697c1ab617",
        "colab": {
          "base_uri": "https://localhost:8080/",
          "height": 265
        }
      },
      "cell_type": "code",
      "source": [
        "import matplotlib.pyplot as plt\n",
        "%matplotlib inline\n",
        "plt.imshow(train_data[45].reshape([28, 28]), cmap='Greys_r')\n",
        "plt.show()"
      ],
      "execution_count": 0,
      "outputs": [
        {
          "output_type": "display_data",
          "data": {
            "image/png": "[encoded data removed]",
            "text/plain": [
              "<matplotlib.figure.Figure at 0x7f94e8081358>"
            ]
          },
          "metadata": {
            "tags": []
          }
        }
      ]
    },
    {
      "metadata": {
        "id": "8ezb_y0QIWQv",
        "colab_type": "code",
        "colab": {}
      },
      "cell_type": "code",
      "source": [
        "def rotate(image):\n",
        "    image = image.reshape([28, 28])\n",
        "    image = np.fliplr(image)\n",
        "    image = np.rot90(image)\n",
        "    return image.reshape([28 * 28])\n",
        "train_data = np.apply_along_axis(rotate, 1, train_data)/255\n",
        "test_data = np.apply_along_axis(rotate, 1, test_data)/255"
      ],
      "execution_count": 0,
      "outputs": []
    },
    {
      "metadata": {
        "id": "o7ewLPP0IWNJ",
        "colab_type": "code",
        "outputId": "8184cf38-3ec8-43a1-99ea-be895a6f1c7d",
        "colab": {
          "base_uri": "https://localhost:8080/",
          "height": 265
        }
      },
      "cell_type": "code",
      "source": [
        "plt.imshow(train_data[45].reshape([28, 28]), cmap='Greys_r')\n",
        "plt.show()"
      ],
      "execution_count": 0,
      "outputs": [
        {
          "output_type": "display_data",
          "data": {
            "image/png": "[encoded data removed]",
            "text/plain": [
              "<matplotlib.figure.Figure at 0x7f94874524a8>"
            ]
          },
          "metadata": {
            "tags": []
          }
        }
      ]
    },
    {
      "metadata": {
        "id": "1vwyLN_PIWJv",
        "colab_type": "code",
        "outputId": "d0540886-17ce-4ca6-b2f7-4409111cd445",
        "colab": {
          "base_uri": "https://localhost:8080/",
          "height": 265
        }
      },
      "cell_type": "code",
      "source": [
        "import matplotlib.pyplot as plt\n",
        "%matplotlib inline\n",
        "plt.imshow(train_data[345].reshape([28, 28]), cmap='Greys_r')\n",
        "plt.show()"
      ],
      "execution_count": 0,
      "outputs": [
        {
          "output_type": "display_data",
          "data": {
            "image/png": "[encoded data removed]",
            "text/plain": [
              "<matplotlib.figure.Figure at 0x7f94878eb9e8>"
            ]
          },
          "metadata": {
            "tags": []
          }
        }
      ]
    },
    {
      "metadata": {
        "id": "zR3kMIEhExDs",
        "colab_type": "code",
        "colab": {}
      },
      "cell_type": "code",
      "source": [
        "X_train = train_data \n",
        "Y_train = train_labels \n",
        "X_test = test_data \n",
        "Y_test = test_labels "
      ],
      "execution_count": 0,
      "outputs": []
    },
    {
      "metadata": {
        "id": "dkmprriw9AnZ",
        "colab_type": "code",
        "colab": {}
      },
      "cell_type": "code",
      "source": [
        "X_train = X_train.reshape(X_train.shape[0], 28, 28,1)\n",
        "X_test = X_test.reshape(X_test.shape[0], 28, 28,1)"
      ],
      "execution_count": 0,
      "outputs": []
    },
    {
      "metadata": {
        "id": "osKqT73Q9JJB",
        "colab_type": "code",
        "outputId": "e2ece435-68c8-449e-87b5-46e45c726235",
        "colab": {
          "base_uri": "https://localhost:8080/",
          "height": 612
        }
      },
      "cell_type": "code",
      "source": [
        "from keras.layers import Activation , MaxPooling2D\n",
        "\n",
        "model = Sequential()\n",
        "\n",
        "model.add(Convolution2D(32,3,3,activation='relu',input_shape=(28,28,1)))\n",
        "model.add(Convolution2D(16,3,3,activation='relu'))\n",
        "model.add(MaxPooling2D(pool_size=(2,2)))\n",
        "model.add(Convolution2D(24,3,3,activation='relu'))\n",
        "model.add(Convolution2D(16,3,3,activation='relu'))\n",
        "model.add(MaxPooling2D(pool_size=(2,2)))\n",
        "model.add(Dropout(0.27))\n",
        "model.add(Flatten())\n",
        "model.add(Dropout(0.27))\n",
        "model.add(Dense(47, activation='softmax'))\n",
        "\n",
        "\n",
        "model.summary()"
      ],
      "execution_count": 0,
      "outputs": [
        {
          "output_type": "stream",
          "text": [
            "_________________________________________________________________\n",
            "Layer (type)                 Output Shape              Param #   \n",
            "=================================================================\n",
            "conv2d_1 (Conv2D)            (None, 26, 26, 32)        320       \n",
            "_________________________________________________________________\n",
            "conv2d_2 (Conv2D)            (None, 24, 24, 16)        4624      \n",
            "_________________________________________________________________\n",
            "max_pooling2d_1 (MaxPooling2 (None, 12, 12, 16)        0         \n",
            "_________________________________________________________________\n",
            "conv2d_3 (Conv2D)            (None, 10, 10, 24)        3480      \n",
            "_________________________________________________________________\n",
            "conv2d_4 (Conv2D)            (None, 8, 8, 16)          3472      \n",
            "_________________________________________________________________\n",
            "max_pooling2d_2 (MaxPooling2 (None, 4, 4, 16)          0         \n",
            "_________________________________________________________________\n",
            "dropout_1 (Dropout)          (None, 4, 4, 16)          0         \n",
            "_________________________________________________________________\n",
            "flatten_1 (Flatten)          (None, 256)               0         \n",
            "_________________________________________________________________\n",
            "dropout_2 (Dropout)          (None, 256)               0         \n",
            "_________________________________________________________________\n",
            "dense_1 (Dense)              (None, 47)                12079     \n",
            "=================================================================\n",
            "Total params: 23,975\n",
            "Trainable params: 23,975\n",
            "Non-trainable params: 0\n",
            "_________________________________________________________________\n"
          ],
          "name": "stdout"
        },
        {
          "output_type": "stream",
          "text": [
            "/usr/local/lib/python3.6/dist-packages/ipykernel_launcher.py:5: UserWarning: Update your `Conv2D` call to the Keras 2 API: `Conv2D(32, (3, 3), activation=\"relu\", input_shape=(28, 28, 1...)`\n",
            "  \"\"\"\n",
            "/usr/local/lib/python3.6/dist-packages/ipykernel_launcher.py:6: UserWarning: Update your `Conv2D` call to the Keras 2 API: `Conv2D(16, (3, 3), activation=\"relu\")`\n",
            "  \n",
            "/usr/local/lib/python3.6/dist-packages/ipykernel_launcher.py:8: UserWarning: Update your `Conv2D` call to the Keras 2 API: `Conv2D(24, (3, 3), activation=\"relu\")`\n",
            "  \n",
            "/usr/local/lib/python3.6/dist-packages/ipykernel_launcher.py:9: UserWarning: Update your `Conv2D` call to the Keras 2 API: `Conv2D(16, (3, 3), activation=\"relu\")`\n",
            "  if __name__ == '__main__':\n"
          ],
          "name": "stderr"
        }
      ]
    },
    {
      "metadata": {
        "id": "Zp6SuGrL9M3h",
        "colab_type": "code",
        "colab": {}
      },
      "cell_type": "code",
      "source": [
        "model.compile(loss='categorical_crossentropy',\n",
        "             optimizer='SGD',\n",
        "             metrics=['accuracy'])"
      ],
      "execution_count": 0,
      "outputs": []
    },
    {
      "metadata": {
        "id": "k49C_BzLXEOw",
        "colab_type": "code",
        "colab": {}
      },
      "cell_type": "code",
      "source": [
        "gen = datagen = ImageDataGenerator(\n",
        "        featurewise_center=False, \n",
        "        samplewise_center=False,  \n",
        "        featurewise_std_normalization=False, \n",
        "        samplewise_std_normalization=False, \n",
        "        zca_whitening=False,  \n",
        "        rotation_range=10,  \n",
        "        zoom_range = 0.1,  \n",
        "        width_shift_range=0.1,  \n",
        "        height_shift_range=0.1, \n",
        "        horizontal_flip=False,  \n",
        "        vertical_flip=False)  \n",
        "\n",
        "train_generator = gen.flow(X_train, Y_train, batch_size=64)"
      ],
      "execution_count": 0,
      "outputs": []
    },
    {
      "metadata": {
        "id": "E5mQT4mDXLuA",
        "colab_type": "code",
        "outputId": "070f22d1-a8e4-44a7-d936-7bf48255e879",
        "colab": {
          "base_uri": "https://localhost:8080/",
          "height": 544
        }
      },
      "cell_type": "code",
      "source": [
        "model.fit_generator(train_generator, steps_per_epoch=697931//64, epochs=15, \n",
        "                    validation_data=(X_test,Y_test))"
      ],
      "execution_count": 0,
      "outputs": [
        {
          "output_type": "stream",
          "text": [
            "Epoch 1/15\n",
            "10905/10905 [==============================] - 306s 28ms/step - loss: 0.6792 - acc: 0.7813 - val_loss: 0.3879 - val_acc: 0.8667\n",
            "Epoch 2/15\n",
            "10905/10905 [==============================] - 308s 28ms/step - loss: 0.6343 - acc: 0.7952 - val_loss: 0.3728 - val_acc: 0.8724\n",
            "Epoch 3/15\n",
            "10905/10905 [==============================] - 310s 28ms/step - loss: 0.6166 - acc: 0.7998 - val_loss: 0.3873 - val_acc: 0.8703\n",
            "Epoch 4/15\n",
            "10905/10905 [==============================] - 299s 27ms/step - loss: 0.6010 - acc: 0.8045 - val_loss: 0.3798 - val_acc: 0.8693\n",
            "Epoch 5/15\n",
            "10905/10905 [==============================] - 303s 28ms/step - loss: 0.5907 - acc: 0.8070 - val_loss: 0.3924 - val_acc: 0.8695\n",
            "Epoch 6/15\n",
            "10905/10905 [==============================] - 303s 28ms/step - loss: 0.5810 - acc: 0.8092 - val_loss: 0.3904 - val_acc: 0.8680\n",
            "Epoch 7/15\n",
            "10905/10905 [==============================] - 301s 28ms/step - loss: 0.5770 - acc: 0.8109 - val_loss: 0.3987 - val_acc: 0.8663\n",
            "Epoch 8/15\n",
            "10905/10905 [==============================] - 296s 27ms/step - loss: 0.5684 - acc: 0.8134 - val_loss: 0.3687 - val_acc: 0.8746\n",
            "Epoch 9/15\n",
            "10905/10905 [==============================] - 301s 28ms/step - loss: 0.5640 - acc: 0.8148 - val_loss: 0.3767 - val_acc: 0.8729\n",
            "Epoch 10/15\n",
            "10905/10905 [==============================] - 298s 27ms/step - loss: 0.5575 - acc: 0.8166 - val_loss: 0.3873 - val_acc: 0.8730\n",
            "Epoch 11/15\n",
            "10905/10905 [==============================] - 301s 28ms/step - loss: 0.5542 - acc: 0.8172 - val_loss: 0.3956 - val_acc: 0.8677\n",
            "Epoch 12/15\n",
            "10905/10905 [==============================] - 297s 27ms/step - loss: 0.5492 - acc: 0.8190 - val_loss: 0.3693 - val_acc: 0.8747\n",
            "Epoch 13/15\n",
            "10905/10905 [==============================] - 307s 28ms/step - loss: 0.5457 - acc: 0.8194 - val_loss: 0.3732 - val_acc: 0.8744\n",
            "Epoch 14/15\n",
            "10905/10905 [==============================] - 305s 28ms/step - loss: 0.5426 - acc: 0.8209 - val_loss: 0.3870 - val_acc: 0.8698\n",
            "Epoch 15/15\n",
            "10905/10905 [==============================] - 306s 28ms/step - loss: 0.5411 - acc: 0.8213 - val_loss: 0.3690 - val_acc: 0.8751\n"
          ],
          "name": "stdout"
        },
        {
          "output_type": "execute_result",
          "data": {
            "text/plain": [
              "<keras.callbacks.History at 0x7ff90ae5cb70>"
            ]
          },
          "metadata": {
            "tags": []
          },
          "execution_count": 30
        }
      ]
    },
    {
      "metadata": {
        "id": "-7Cq1iLXMaJl",
        "colab_type": "code",
        "outputId": "b2d13ffb-4acb-417b-bc45-635294160403",
        "colab": {
          "base_uri": "https://localhost:8080/",
          "height": 561
        }
      },
      "cell_type": "code",
      "source": [
        "model.fit(X_train,Y_train,batch_size=32,epochs=15,verbose=1,validation_data=(X_test, Y_test))"
      ],
      "execution_count": 0,
      "outputs": [
        {
          "output_type": "stream",
          "text": [
            "Train on 112800 samples, validate on 18800 samples\n",
            "Epoch 1/15\n",
            "112800/112800 [==============================] - 38s 338us/step - loss: 2.3865 - acc: 0.3558 - val_loss: 0.9215 - val_acc: 0.7301\n",
            "Epoch 2/15\n",
            "112800/112800 [==============================] - 34s 304us/step - loss: 1.0509 - acc: 0.6786 - val_loss: 0.6646 - val_acc: 0.7903\n",
            "Epoch 3/15\n",
            "112800/112800 [==============================] - 34s 303us/step - loss: 0.8528 - acc: 0.7334 - val_loss: 0.5922 - val_acc: 0.8079\n",
            "Epoch 4/15\n",
            "112800/112800 [==============================] - 34s 304us/step - loss: 0.7710 - acc: 0.7550 - val_loss: 0.5438 - val_acc: 0.8232\n",
            "Epoch 5/15\n",
            "112800/112800 [==============================] - 34s 305us/step - loss: 0.7200 - acc: 0.7690 - val_loss: 0.5161 - val_acc: 0.8332\n",
            "Epoch 6/15\n",
            "112800/112800 [==============================] - 34s 302us/step - loss: 0.6780 - acc: 0.7812 - val_loss: 0.5041 - val_acc: 0.8360\n",
            "Epoch 7/15\n",
            "112800/112800 [==============================] - 34s 305us/step - loss: 0.6538 - acc: 0.7879 - val_loss: 0.4801 - val_acc: 0.8419\n",
            "Epoch 8/15\n",
            "112800/112800 [==============================] - 34s 305us/step - loss: 0.6353 - acc: 0.7944 - val_loss: 0.4702 - val_acc: 0.8432\n",
            "Epoch 9/15\n",
            "112800/112800 [==============================] - 34s 303us/step - loss: 0.6182 - acc: 0.7989 - val_loss: 0.4599 - val_acc: 0.8469\n",
            "Epoch 10/15\n",
            "112800/112800 [==============================] - 34s 304us/step - loss: 0.6031 - acc: 0.8038 - val_loss: 0.4520 - val_acc: 0.8497\n",
            "Epoch 11/15\n",
            "112800/112800 [==============================] - 34s 302us/step - loss: 0.5913 - acc: 0.8059 - val_loss: 0.4491 - val_acc: 0.8518\n",
            "Epoch 12/15\n",
            "112800/112800 [==============================] - 34s 304us/step - loss: 0.5816 - acc: 0.8095 - val_loss: 0.4412 - val_acc: 0.8529\n",
            "Epoch 13/15\n",
            "112800/112800 [==============================] - 34s 302us/step - loss: 0.5705 - acc: 0.8119 - val_loss: 0.4377 - val_acc: 0.8519\n",
            "Epoch 14/15\n",
            "112800/112800 [==============================] - 34s 303us/step - loss: 0.5569 - acc: 0.8156 - val_loss: 0.4286 - val_acc: 0.8573\n",
            "Epoch 15/15\n",
            "112800/112800 [==============================] - 34s 304us/step - loss: 0.5576 - acc: 0.8164 - val_loss: 0.4287 - val_acc: 0.8580\n"
          ],
          "name": "stdout"
        },
        {
          "output_type": "execute_result",
          "data": {
            "text/plain": [
              "<keras.callbacks.History at 0x7ff92ad993c8>"
            ]
          },
          "metadata": {
            "tags": []
          },
          "execution_count": 23
        }
      ]
    },
    {
      "metadata": {
        "id": "LPwy9KIsSTiy",
        "colab_type": "code",
        "outputId": "6c7b21ab-c0d3-4807-e112-d348e2b331be",
        "colab": {
          "base_uri": "https://localhost:8080/",
          "height": 1751
        }
      },
      "cell_type": "code",
      "source": [
        "model.fit(X_train,Y_train,batch_size=32,epochs=50,verbose=1,validation_data=(X_test, Y_test))"
      ],
      "execution_count": 0,
      "outputs": [
        {
          "output_type": "stream",
          "text": [
            "Train on 112800 samples, validate on 18800 samples\n",
            "Epoch 1/50\n",
            "112800/112800 [==============================] - 34s 304us/step - loss: 0.5448 - acc: 0.8187 - val_loss: 0.4192 - val_acc: 0.8602\n",
            "Epoch 2/50\n",
            "112800/112800 [==============================] - 35s 307us/step - loss: 0.5404 - acc: 0.8218 - val_loss: 0.4200 - val_acc: 0.8578\n",
            "Epoch 3/50\n",
            "112800/112800 [==============================] - 34s 305us/step - loss: 0.5343 - acc: 0.8212 - val_loss: 0.4168 - val_acc: 0.8609\n",
            "Epoch 4/50\n",
            "112800/112800 [==============================] - 34s 304us/step - loss: 0.5285 - acc: 0.8240 - val_loss: 0.4115 - val_acc: 0.8616\n",
            "Epoch 5/50\n",
            "112800/112800 [==============================] - 34s 303us/step - loss: 0.5249 - acc: 0.8246 - val_loss: 0.4163 - val_acc: 0.8556\n",
            "Epoch 6/50\n",
            "112800/112800 [==============================] - 34s 304us/step - loss: 0.5197 - acc: 0.8260 - val_loss: 0.4055 - val_acc: 0.8621\n",
            "Epoch 7/50\n",
            "112800/112800 [==============================] - 34s 305us/step - loss: 0.5138 - acc: 0.8281 - val_loss: 0.4178 - val_acc: 0.8581\n",
            "Epoch 8/50\n",
            "112800/112800 [==============================] - 34s 304us/step - loss: 0.5103 - acc: 0.8303 - val_loss: 0.4023 - val_acc: 0.8662\n",
            "Epoch 9/50\n",
            "112800/112800 [==============================] - 34s 306us/step - loss: 0.5072 - acc: 0.8309 - val_loss: 0.4064 - val_acc: 0.8621\n",
            "Epoch 10/50\n",
            "112800/112800 [==============================] - 34s 302us/step - loss: 0.5021 - acc: 0.8315 - val_loss: 0.4005 - val_acc: 0.8635\n",
            "Epoch 11/50\n",
            "112800/112800 [==============================] - 34s 304us/step - loss: 0.4992 - acc: 0.8323 - val_loss: 0.3971 - val_acc: 0.8650\n",
            "Epoch 12/50\n",
            "112800/112800 [==============================] - 34s 303us/step - loss: 0.4970 - acc: 0.8324 - val_loss: 0.3938 - val_acc: 0.8657\n",
            "Epoch 13/50\n",
            "112800/112800 [==============================] - 34s 304us/step - loss: 0.4909 - acc: 0.8356 - val_loss: 0.3934 - val_acc: 0.8660\n",
            "Epoch 14/50\n",
            "112800/112800 [==============================] - 34s 303us/step - loss: 0.4885 - acc: 0.8358 - val_loss: 0.3930 - val_acc: 0.8665\n",
            "Epoch 15/50\n",
            "112800/112800 [==============================] - 34s 304us/step - loss: 0.4844 - acc: 0.8366 - val_loss: 0.3866 - val_acc: 0.8669\n",
            "Epoch 16/50\n",
            "112800/112800 [==============================] - 34s 304us/step - loss: 0.4837 - acc: 0.8371 - val_loss: 0.3877 - val_acc: 0.8689\n",
            "Epoch 17/50\n",
            "112800/112800 [==============================] - 34s 300us/step - loss: 0.4814 - acc: 0.8380 - val_loss: 0.3837 - val_acc: 0.8695\n",
            "Epoch 18/50\n",
            "112800/112800 [==============================] - 34s 305us/step - loss: 0.4779 - acc: 0.8382 - val_loss: 0.3843 - val_acc: 0.8701\n",
            "Epoch 19/50\n",
            "112800/112800 [==============================] - 34s 299us/step - loss: 0.4745 - acc: 0.8395 - val_loss: 0.3856 - val_acc: 0.8666\n",
            "Epoch 20/50\n",
            "112800/112800 [==============================] - 34s 300us/step - loss: 0.4704 - acc: 0.8403 - val_loss: 0.3886 - val_acc: 0.8673\n",
            "Epoch 21/50\n",
            "112800/112800 [==============================] - 34s 304us/step - loss: 0.4708 - acc: 0.8408 - val_loss: 0.3797 - val_acc: 0.8708\n",
            "Epoch 22/50\n",
            "112800/112800 [==============================] - 34s 303us/step - loss: 0.4682 - acc: 0.8426 - val_loss: 0.3832 - val_acc: 0.8681\n",
            "Epoch 23/50\n",
            "112800/112800 [==============================] - 34s 303us/step - loss: 0.4674 - acc: 0.8418 - val_loss: 0.3786 - val_acc: 0.8703\n",
            "Epoch 24/50\n",
            "112800/112800 [==============================] - 34s 302us/step - loss: 0.4631 - acc: 0.8426 - val_loss: 0.3783 - val_acc: 0.8710\n",
            "Epoch 25/50\n",
            "112800/112800 [==============================] - 34s 304us/step - loss: 0.4608 - acc: 0.8432 - val_loss: 0.3752 - val_acc: 0.8705\n",
            "Epoch 26/50\n",
            "112800/112800 [==============================] - 34s 302us/step - loss: 0.4572 - acc: 0.8441 - val_loss: 0.3788 - val_acc: 0.8693\n",
            "Epoch 27/50\n",
            "112800/112800 [==============================] - 34s 305us/step - loss: 0.4565 - acc: 0.8444 - val_loss: 0.3735 - val_acc: 0.8709\n",
            "Epoch 28/50\n",
            "112800/112800 [==============================] - 34s 300us/step - loss: 0.4547 - acc: 0.8462 - val_loss: 0.3754 - val_acc: 0.8735\n",
            "Epoch 29/50\n",
            "112800/112800 [==============================] - 34s 300us/step - loss: 0.4548 - acc: 0.8449 - val_loss: 0.3725 - val_acc: 0.8722\n",
            "Epoch 30/50\n",
            "112800/112800 [==============================] - 34s 300us/step - loss: 0.4501 - acc: 0.8469 - val_loss: 0.3716 - val_acc: 0.8735\n",
            "Epoch 31/50\n",
            "112800/112800 [==============================] - 34s 300us/step - loss: 0.4504 - acc: 0.8471 - val_loss: 0.3774 - val_acc: 0.8723\n",
            "Epoch 32/50\n",
            "112800/112800 [==============================] - 34s 300us/step - loss: 0.4501 - acc: 0.8462 - val_loss: 0.3688 - val_acc: 0.8720\n",
            "Epoch 33/50\n",
            "112800/112800 [==============================] - 34s 300us/step - loss: 0.4465 - acc: 0.8478 - val_loss: 0.3733 - val_acc: 0.8700\n",
            "Epoch 34/50\n",
            "112800/112800 [==============================] - 34s 304us/step - loss: 0.4465 - acc: 0.8471 - val_loss: 0.3658 - val_acc: 0.8727\n",
            "Epoch 35/50\n",
            "112800/112800 [==============================] - 34s 301us/step - loss: 0.4433 - acc: 0.8487 - val_loss: 0.3697 - val_acc: 0.8730\n",
            "Epoch 36/50\n",
            "112800/112800 [==============================] - 34s 305us/step - loss: 0.4402 - acc: 0.8505 - val_loss: 0.3655 - val_acc: 0.8753\n",
            "Epoch 37/50\n",
            "112800/112800 [==============================] - 34s 301us/step - loss: 0.4396 - acc: 0.8496 - val_loss: 0.3693 - val_acc: 0.8720\n",
            "Epoch 38/50\n",
            "112800/112800 [==============================] - 34s 302us/step - loss: 0.4376 - acc: 0.8490 - val_loss: 0.3650 - val_acc: 0.8744\n",
            "Epoch 39/50\n",
            "112800/112800 [==============================] - 34s 303us/step - loss: 0.4356 - acc: 0.8505 - val_loss: 0.3679 - val_acc: 0.8726\n",
            "Epoch 40/50\n",
            "112800/112800 [==============================] - 34s 302us/step - loss: 0.4371 - acc: 0.8503 - val_loss: 0.3629 - val_acc: 0.8752\n",
            "Epoch 41/50\n",
            "112800/112800 [==============================] - 34s 303us/step - loss: 0.4335 - acc: 0.8512 - val_loss: 0.3666 - val_acc: 0.8742\n",
            "Epoch 42/50\n",
            "112800/112800 [==============================] - 34s 303us/step - loss: 0.4321 - acc: 0.8512 - val_loss: 0.3608 - val_acc: 0.8757\n",
            "Epoch 43/50\n",
            "112800/112800 [==============================] - 34s 303us/step - loss: 0.4295 - acc: 0.8512 - val_loss: 0.3654 - val_acc: 0.8745\n",
            "Epoch 44/50\n",
            "112800/112800 [==============================] - 34s 301us/step - loss: 0.4282 - acc: 0.8538 - val_loss: 0.3591 - val_acc: 0.8762\n",
            "Epoch 45/50\n",
            "112800/112800 [==============================] - 34s 306us/step - loss: 0.4309 - acc: 0.8523 - val_loss: 0.3603 - val_acc: 0.8756\n",
            "Epoch 46/50\n",
            "112800/112800 [==============================] - 34s 301us/step - loss: 0.4263 - acc: 0.8536 - val_loss: 0.3663 - val_acc: 0.8724\n",
            "Epoch 47/50\n",
            "112800/112800 [==============================] - 34s 302us/step - loss: 0.4278 - acc: 0.8530 - val_loss: 0.3568 - val_acc: 0.8781\n",
            "Epoch 48/50\n",
            "112800/112800 [==============================] - 34s 303us/step - loss: 0.4254 - acc: 0.8534 - val_loss: 0.3614 - val_acc: 0.8766\n",
            "Epoch 49/50\n",
            "112800/112800 [==============================] - 41s 363us/step - loss: 0.4232 - acc: 0.8534 - val_loss: 0.3594 - val_acc: 0.8781\n",
            "Epoch 50/50\n",
            "112800/112800 [==============================] - 35s 314us/step - loss: 0.4238 - acc: 0.8538 - val_loss: 0.3560 - val_acc: 0.8756\n"
          ],
          "name": "stdout"
        },
        {
          "output_type": "execute_result",
          "data": {
            "text/plain": [
              "<keras.callbacks.History at 0x7ff92ac23e10>"
            ]
          },
          "metadata": {
            "tags": []
          },
          "execution_count": 27
        }
      ]
    },
    {
      "metadata": {
        "id": "57bL37D1-LL0",
        "colab_type": "code",
        "outputId": "aa121334-8b67-468f-e461-462a2fae2a57",
        "colab": {
          "base_uri": "https://localhost:8080/",
          "height": 34
        }
      },
      "cell_type": "code",
      "source": [
        "score = model.evaluate(X_test[50:100], Y_test[50:100], verbose=0)\n",
        "print(score)\n"
      ],
      "execution_count": 0,
      "outputs": [
        {
          "output_type": "stream",
          "text": [
            "[0.20936107516288757, 0.9399999904632569]\n"
          ],
          "name": "stdout"
        }
      ]
    },
    {
      "metadata": {
        "id": "feuUrYs7KLyl",
        "colab_type": "code",
        "outputId": "c4cbac34-fdd6-40e4-fd26-1424a25521ec",
        "colab": {
          "base_uri": "https://localhost:8080/",
          "height": 595
        }
      },
      "cell_type": "code",
      "source": [
        "!pip install tensorflowjs"
      ],
      "execution_count": 0,
      "outputs": [
        {
          "output_type": "stream",
          "text": [
            "Requirement already satisfied: tensorflowjs in /usr/local/lib/python3.6/dist-packages (0.6.7)\n",
            "Requirement already satisfied: tensorflow==1.12.0 in /usr/local/lib/python3.6/dist-packages (from tensorflowjs) (1.12.0)\n",
            "Requirement already satisfied: numpy==1.15.1 in /usr/local/lib/python3.6/dist-packages (from tensorflowjs) (1.15.1)\n",
            "Requirement already satisfied: tensorflow-hub==0.1.1 in /usr/local/lib/python3.6/dist-packages (from tensorflowjs) (0.1.1)\n",
            "Requirement already satisfied: six==1.11.0 in /usr/local/lib/python3.6/dist-packages (from tensorflowjs) (1.11.0)\n",
            "Requirement already satisfied: keras==2.2.2 in /usr/local/lib/python3.6/dist-packages (from tensorflowjs) (2.2.2)\n",
            "Requirement already satisfied: h5py==2.8.0 in /usr/local/lib/python3.6/dist-packages (from tensorflowjs) (2.8.0)\n",
            "Requirement already satisfied: grpcio>=1.8.6 in /usr/local/lib/python3.6/dist-packages (from tensorflow==1.12.0->tensorflowjs) (1.15.0)\n",
            "Requirement already satisfied: wheel>=0.26 in /usr/local/lib/python3.6/dist-packages (from tensorflow==1.12.0->tensorflowjs) (0.32.3)\n",
            "Requirement already satisfied: termcolor>=1.1.0 in /usr/local/lib/python3.6/dist-packages (from tensorflow==1.12.0->tensorflowjs) (1.1.0)\n",
            "Collecting keras-preprocessing>=1.0.5 (from tensorflow==1.12.0->tensorflowjs)\n",
            "  Using cached https://files.pythonhosted.org/packages/fc/94/74e0fa783d3fc07e41715973435dd051ca89c550881b3454233c39c73e69/Keras_Preprocessing-1.0.5-py2.py3-none-any.whl\n",
            "Requirement already satisfied: tensorboard<1.13.0,>=1.12.0 in /usr/local/lib/python3.6/dist-packages (from tensorflow==1.12.0->tensorflowjs) (1.12.0)\n",
            "Requirement already satisfied: gast>=0.2.0 in /usr/local/lib/python3.6/dist-packages (from tensorflow==1.12.0->tensorflowjs) (0.2.0)\n",
            "Requirement already satisfied: protobuf>=3.6.1 in /usr/local/lib/python3.6/dist-packages (from tensorflow==1.12.0->tensorflowjs) (3.6.1)\n",
            "Requirement already satisfied: absl-py>=0.1.6 in /usr/local/lib/python3.6/dist-packages (from tensorflow==1.12.0->tensorflowjs) (0.6.1)\n",
            "Collecting keras-applications>=1.0.6 (from tensorflow==1.12.0->tensorflowjs)\n",
            "  Using cached https://files.pythonhosted.org/packages/3f/c4/2ff40221029f7098d58f8d7fb99b97e8100f3293f9856f0fb5834bef100b/Keras_Applications-1.0.6-py2.py3-none-any.whl\n",
            "Requirement already satisfied: astor>=0.6.0 in /usr/local/lib/python3.6/dist-packages (from tensorflow==1.12.0->tensorflowjs) (0.7.1)\n",
            "Requirement already satisfied: pyyaml in /usr/local/lib/python3.6/dist-packages (from keras==2.2.2->tensorflowjs) (3.13)\n",
            "Requirement already satisfied: scipy>=0.14 in /usr/local/lib/python3.6/dist-packages (from keras==2.2.2->tensorflowjs) (1.1.0)\n",
            "Requirement already satisfied: werkzeug>=0.11.10 in /usr/local/lib/python3.6/dist-packages (from tensorboard<1.13.0,>=1.12.0->tensorflow==1.12.0->tensorflowjs) (0.14.1)\n",
            "Requirement already satisfied: markdown>=2.6.8 in /usr/local/lib/python3.6/dist-packages (from tensorboard<1.13.0,>=1.12.0->tensorflow==1.12.0->tensorflowjs) (3.0.1)\n",
            "Requirement already satisfied: setuptools in /usr/local/lib/python3.6/dist-packages (from protobuf>=3.6.1->tensorflow==1.12.0->tensorflowjs) (40.6.2)\n",
            "\u001b[31mkeras 2.2.2 has requirement keras-applications==1.0.4, but you'll have keras-applications 1.0.6 which is incompatible.\u001b[0m\n",
            "\u001b[31mkeras 2.2.2 has requirement keras-preprocessing==1.0.2, but you'll have keras-preprocessing 1.0.5 which is incompatible.\u001b[0m\n",
            "Installing collected packages: keras-preprocessing, keras-applications\n",
            "  Found existing installation: Keras-Preprocessing 1.0.2\n",
            "    Uninstalling Keras-Preprocessing-1.0.2:\n",
            "      Successfully uninstalled Keras-Preprocessing-1.0.2\n",
            "  Found existing installation: Keras-Applications 1.0.4\n",
            "    Uninstalling Keras-Applications-1.0.4:\n",
            "      Successfully uninstalled Keras-Applications-1.0.4\n",
            "Successfully installed keras-applications-1.0.6 keras-preprocessing-1.0.5\n"
          ],
          "name": "stdout"
        }
      ]
    },
    {
      "metadata": {
        "id": "WuwzZFKxKLsl",
        "colab_type": "code",
        "colab": {}
      },
      "cell_type": "code",
      "source": [
        "import tensorflowjs as tfjs"
      ],
      "execution_count": 0,
      "outputs": []
    },
    {
      "metadata": {
        "id": "wo3ujv9dKLpl",
        "colab_type": "code",
        "colab": {}
      },
      "cell_type": "code",
      "source": [
        "tfjs.converters.save_keras_model(model, '/content/drive/My Drive/Datasets/')"
      ],
      "execution_count": 0,
      "outputs": []
    }
  ]
}